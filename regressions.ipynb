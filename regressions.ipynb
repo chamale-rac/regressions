{
 "cells": [
  {
   "cell_type": "markdown",
   "metadata": {},
   "source": [
    "# Exploratory Analysis and Regressions\n"
   ]
  },
  {
   "cell_type": "markdown",
   "metadata": {},
   "source": [
    "## Parte 1\n"
   ]
  },
  {
   "cell_type": "markdown",
   "metadata": {},
   "source": [
    "### 1.0 Pre-processing\n"
   ]
  },
  {
   "cell_type": "code",
   "execution_count": 1,
   "metadata": {},
   "outputs": [],
   "source": [
    "'''\n",
    "Importing the necessary libraries for the project\n",
    "'''\n",
    "import pandas as pd  # for data manipulations\n",
    "import numpy as np  # for numerical computations\n",
    "import matplotlib.pyplot as plt  # for data visualization\n",
    "import seaborn as sns  # for data visualization\n",
    "import warnings as wr  # for ignoring warnings\n",
    "wr.filterwarnings('ignore')"
   ]
  },
  {
   "cell_type": "code",
   "execution_count": 6,
   "metadata": {},
   "outputs": [
    {
     "data": {
      "text/html": [
       "<div>\n",
       "<style scoped>\n",
       "    .dataframe tbody tr th:only-of-type {\n",
       "        vertical-align: middle;\n",
       "    }\n",
       "\n",
       "    .dataframe tbody tr th {\n",
       "        vertical-align: top;\n",
       "    }\n",
       "\n",
       "    .dataframe thead th {\n",
       "        text-align: right;\n",
       "    }\n",
       "</style>\n",
       "<table border=\"1\" class=\"dataframe\">\n",
       "  <thead>\n",
       "    <tr style=\"text-align: right;\">\n",
       "      <th></th>\n",
       "      <th>attendance</th>\n",
       "      <th>away_team</th>\n",
       "      <th>away_team_errors</th>\n",
       "      <th>away_team_hits</th>\n",
       "      <th>away_team_runs</th>\n",
       "      <th>boxscore_url</th>\n",
       "      <th>date</th>\n",
       "      <th>field_type</th>\n",
       "      <th>game_duration</th>\n",
       "      <th>game_type</th>\n",
       "      <th>home_team</th>\n",
       "      <th>home_team_errors</th>\n",
       "      <th>home_team_hits</th>\n",
       "      <th>home_team_runs</th>\n",
       "      <th>other_info_string</th>\n",
       "      <th>start_time</th>\n",
       "      <th>venue</th>\n",
       "    </tr>\n",
       "  </thead>\n",
       "  <tbody>\n",
       "    <tr>\n",
       "      <th>0</th>\n",
       "      <td>40,030']</td>\n",
       "      <td>New York Mets</td>\n",
       "      <td>1</td>\n",
       "      <td>7</td>\n",
       "      <td>3</td>\n",
       "      <td>https://www.baseball-reference.com/boxes/KCA/K...</td>\n",
       "      <td>Sunday, April 3, 2016</td>\n",
       "      <td>NaN</td>\n",
       "      <td>: 3:13</td>\n",
       "      <td>Night Game, on grass</td>\n",
       "      <td>Kansas City Royals</td>\n",
       "      <td>0</td>\n",
       "      <td>9</td>\n",
       "      <td>4</td>\n",
       "      <td>&lt;!--  \\n    &lt;div class=\"section_content\" id=\"d...</td>\n",
       "      <td>Start Time: 7:38 p.m. Local</td>\n",
       "      <td>: Kauffman Stadium</td>\n",
       "    </tr>\n",
       "    <tr>\n",
       "      <th>1</th>\n",
       "      <td>21,621']</td>\n",
       "      <td>Philadelphia Phillies</td>\n",
       "      <td>0</td>\n",
       "      <td>5</td>\n",
       "      <td>2</td>\n",
       "      <td>https://www.baseball-reference.com/boxes/CIN/C...</td>\n",
       "      <td>Wednesday, April 6, 2016</td>\n",
       "      <td>NaN</td>\n",
       "      <td>: 2:23</td>\n",
       "      <td>Night Game, on grass</td>\n",
       "      <td>Cincinnati Reds</td>\n",
       "      <td>0</td>\n",
       "      <td>8</td>\n",
       "      <td>3</td>\n",
       "      <td>&lt;!--  \\n    &lt;div class=\"section_content\" id=\"d...</td>\n",
       "      <td>Start Time: 7:11 p.m. Local</td>\n",
       "      <td>: Great American Ball Park</td>\n",
       "    </tr>\n",
       "    <tr>\n",
       "      <th>2</th>\n",
       "      <td>12,622']</td>\n",
       "      <td>Minnesota Twins</td>\n",
       "      <td>0</td>\n",
       "      <td>5</td>\n",
       "      <td>2</td>\n",
       "      <td>https://www.baseball-reference.com/boxes/BAL/B...</td>\n",
       "      <td>Wednesday, April 6, 2016</td>\n",
       "      <td>NaN</td>\n",
       "      <td>: 3:11</td>\n",
       "      <td>Night Game, on grass</td>\n",
       "      <td>Baltimore Orioles</td>\n",
       "      <td>0</td>\n",
       "      <td>9</td>\n",
       "      <td>4</td>\n",
       "      <td>&lt;!--  \\n    &lt;div class=\"section_content\" id=\"d...</td>\n",
       "      <td>Start Time: 7:07 p.m. Local</td>\n",
       "      <td>: Oriole Park at Camden Yards</td>\n",
       "    </tr>\n",
       "    <tr>\n",
       "      <th>3</th>\n",
       "      <td>18,531']</td>\n",
       "      <td>Washington Nationals</td>\n",
       "      <td>0</td>\n",
       "      <td>8</td>\n",
       "      <td>3</td>\n",
       "      <td>https://www.baseball-reference.com/boxes/ATL/A...</td>\n",
       "      <td>Wednesday, April 6, 2016</td>\n",
       "      <td>NaN</td>\n",
       "      <td>: 2:53</td>\n",
       "      <td>Night Game, on grass</td>\n",
       "      <td>Atlanta Braves</td>\n",
       "      <td>1</td>\n",
       "      <td>8</td>\n",
       "      <td>1</td>\n",
       "      <td>&lt;!--  \\n    &lt;div class=\"section_content\" id=\"d...</td>\n",
       "      <td>Start Time: 7:10 p.m. Local</td>\n",
       "      <td>: Turner Field</td>\n",
       "    </tr>\n",
       "    <tr>\n",
       "      <th>4</th>\n",
       "      <td>18,572']</td>\n",
       "      <td>Colorado Rockies</td>\n",
       "      <td>1</td>\n",
       "      <td>8</td>\n",
       "      <td>4</td>\n",
       "      <td>https://www.baseball-reference.com/boxes/ARI/A...</td>\n",
       "      <td>Wednesday, April 6, 2016</td>\n",
       "      <td>NaN</td>\n",
       "      <td>: 2:39</td>\n",
       "      <td>Day Game, on grass</td>\n",
       "      <td>Arizona Diamondbacks</td>\n",
       "      <td>0</td>\n",
       "      <td>8</td>\n",
       "      <td>3</td>\n",
       "      <td>&lt;!--  \\n    &lt;div class=\"section_content\" id=\"d...</td>\n",
       "      <td>Start Time: 12:40 p.m. Local</td>\n",
       "      <td>: Chase Field</td>\n",
       "    </tr>\n",
       "  </tbody>\n",
       "</table>\n",
       "</div>"
      ],
      "text/plain": [
       "  attendance              away_team  away_team_errors  away_team_hits  \\\n",
       "0   40,030']          New York Mets                 1               7   \n",
       "1   21,621']  Philadelphia Phillies                 0               5   \n",
       "2   12,622']        Minnesota Twins                 0               5   \n",
       "3   18,531']   Washington Nationals                 0               8   \n",
       "4   18,572']       Colorado Rockies                 1               8   \n",
       "\n",
       "   away_team_runs                                       boxscore_url  \\\n",
       "0               3  https://www.baseball-reference.com/boxes/KCA/K...   \n",
       "1               2  https://www.baseball-reference.com/boxes/CIN/C...   \n",
       "2               2  https://www.baseball-reference.com/boxes/BAL/B...   \n",
       "3               3  https://www.baseball-reference.com/boxes/ATL/A...   \n",
       "4               4  https://www.baseball-reference.com/boxes/ARI/A...   \n",
       "\n",
       "                       date  field_type game_duration             game_type  \\\n",
       "0     Sunday, April 3, 2016         NaN        : 3:13  Night Game, on grass   \n",
       "1  Wednesday, April 6, 2016         NaN        : 2:23  Night Game, on grass   \n",
       "2  Wednesday, April 6, 2016         NaN        : 3:11  Night Game, on grass   \n",
       "3  Wednesday, April 6, 2016         NaN        : 2:53  Night Game, on grass   \n",
       "4  Wednesday, April 6, 2016         NaN        : 2:39    Day Game, on grass   \n",
       "\n",
       "              home_team  home_team_errors  home_team_hits  home_team_runs  \\\n",
       "0    Kansas City Royals                 0               9               4   \n",
       "1       Cincinnati Reds                 0               8               3   \n",
       "2     Baltimore Orioles                 0               9               4   \n",
       "3        Atlanta Braves                 1               8               1   \n",
       "4  Arizona Diamondbacks                 0               8               3   \n",
       "\n",
       "                                   other_info_string  \\\n",
       "0  <!--  \\n    <div class=\"section_content\" id=\"d...   \n",
       "1  <!--  \\n    <div class=\"section_content\" id=\"d...   \n",
       "2  <!--  \\n    <div class=\"section_content\" id=\"d...   \n",
       "3  <!--  \\n    <div class=\"section_content\" id=\"d...   \n",
       "4  <!--  \\n    <div class=\"section_content\" id=\"d...   \n",
       "\n",
       "                     start_time                          venue  \n",
       "0   Start Time: 7:38 p.m. Local             : Kauffman Stadium  \n",
       "1   Start Time: 7:11 p.m. Local     : Great American Ball Park  \n",
       "2   Start Time: 7:07 p.m. Local  : Oriole Park at Camden Yards  \n",
       "3   Start Time: 7:10 p.m. Local                 : Turner Field  \n",
       "4  Start Time: 12:40 p.m. Local                  : Chase Field  "
      ]
     },
     "execution_count": 6,
     "metadata": {},
     "output_type": "execute_result"
    }
   ],
   "source": [
    "'''\n",
    "Loading and reading the dataset\n",
    "'''\n",
    "df = pd.read_csv('./baseball_reference_2016_scrape.csv')\n",
    "df.head()"
   ]
  },
  {
   "cell_type": "code",
   "execution_count": 8,
   "metadata": {},
   "outputs": [
    {
     "data": {
      "text/plain": [
       "(2463, 17)"
      ]
     },
     "execution_count": 8,
     "metadata": {},
     "output_type": "execute_result"
    }
   ],
   "source": [
    "'''\n",
    "Manual and basic data analysis\n",
    "'''\n",
    "\n",
    "df.shape"
   ]
  },
  {
   "cell_type": "code",
   "execution_count": 9,
   "metadata": {},
   "outputs": [
    {
     "name": "stdout",
     "output_type": "stream",
     "text": [
      "<class 'pandas.core.frame.DataFrame'>\n",
      "RangeIndex: 2463 entries, 0 to 2462\n",
      "Data columns (total 17 columns):\n",
      " #   Column             Non-Null Count  Dtype  \n",
      "---  ------             --------------  -----  \n",
      " 0   attendance         2463 non-null   object \n",
      " 1   away_team          2463 non-null   object \n",
      " 2   away_team_errors   2463 non-null   int64  \n",
      " 3   away_team_hits     2463 non-null   int64  \n",
      " 4   away_team_runs     2463 non-null   int64  \n",
      " 5   boxscore_url       2463 non-null   object \n",
      " 6   date               2463 non-null   object \n",
      " 7   field_type         0 non-null      float64\n",
      " 8   game_duration      2463 non-null   object \n",
      " 9   game_type          2460 non-null   object \n",
      " 10  home_team          2463 non-null   object \n",
      " 11  home_team_errors   2463 non-null   int64  \n",
      " 12  home_team_hits     2463 non-null   int64  \n",
      " 13  home_team_runs     2463 non-null   int64  \n",
      " 14  other_info_string  2463 non-null   object \n",
      " 15  start_time         2463 non-null   object \n",
      " 16  venue              2463 non-null   object \n",
      "dtypes: float64(1), int64(6), object(10)\n",
      "memory usage: 327.2+ KB\n"
     ]
    }
   ],
   "source": [
    "df.info()"
   ]
  },
  {
   "cell_type": "code",
   "execution_count": 18,
   "metadata": {},
   "outputs": [
    {
     "data": {
      "text/html": [
       "<div>\n",
       "<style scoped>\n",
       "    .dataframe tbody tr th:only-of-type {\n",
       "        vertical-align: middle;\n",
       "    }\n",
       "\n",
       "    .dataframe tbody tr th {\n",
       "        vertical-align: top;\n",
       "    }\n",
       "\n",
       "    .dataframe thead th {\n",
       "        text-align: right;\n",
       "    }\n",
       "</style>\n",
       "<table border=\"1\" class=\"dataframe\">\n",
       "  <thead>\n",
       "    <tr style=\"text-align: right;\">\n",
       "      <th></th>\n",
       "      <th>count</th>\n",
       "      <th>mean</th>\n",
       "      <th>std</th>\n",
       "      <th>min</th>\n",
       "      <th>25%</th>\n",
       "      <th>50%</th>\n",
       "      <th>75%</th>\n",
       "      <th>max</th>\n",
       "    </tr>\n",
       "  </thead>\n",
       "  <tbody>\n",
       "    <tr>\n",
       "      <th>away_team_errors</th>\n",
       "      <td>2463.0</td>\n",
       "      <td>0.580593</td>\n",
       "      <td>0.793391</td>\n",
       "      <td>0.0</td>\n",
       "      <td>0.0</td>\n",
       "      <td>0.0</td>\n",
       "      <td>1.0</td>\n",
       "      <td>5.0</td>\n",
       "    </tr>\n",
       "    <tr>\n",
       "      <th>away_team_hits</th>\n",
       "      <td>2463.0</td>\n",
       "      <td>8.764515</td>\n",
       "      <td>3.511581</td>\n",
       "      <td>1.0</td>\n",
       "      <td>6.0</td>\n",
       "      <td>8.0</td>\n",
       "      <td>11.0</td>\n",
       "      <td>22.0</td>\n",
       "    </tr>\n",
       "    <tr>\n",
       "      <th>away_team_runs</th>\n",
       "      <td>2463.0</td>\n",
       "      <td>4.413723</td>\n",
       "      <td>3.104556</td>\n",
       "      <td>0.0</td>\n",
       "      <td>2.0</td>\n",
       "      <td>4.0</td>\n",
       "      <td>6.0</td>\n",
       "      <td>21.0</td>\n",
       "    </tr>\n",
       "    <tr>\n",
       "      <th>field_type</th>\n",
       "      <td>0.0</td>\n",
       "      <td>NaN</td>\n",
       "      <td>NaN</td>\n",
       "      <td>NaN</td>\n",
       "      <td>NaN</td>\n",
       "      <td>NaN</td>\n",
       "      <td>NaN</td>\n",
       "      <td>NaN</td>\n",
       "    </tr>\n",
       "    <tr>\n",
       "      <th>home_team_errors</th>\n",
       "      <td>2463.0</td>\n",
       "      <td>0.585871</td>\n",
       "      <td>0.805542</td>\n",
       "      <td>0.0</td>\n",
       "      <td>0.0</td>\n",
       "      <td>0.0</td>\n",
       "      <td>1.0</td>\n",
       "      <td>5.0</td>\n",
       "    </tr>\n",
       "    <tr>\n",
       "      <th>home_team_hits</th>\n",
       "      <td>2463.0</td>\n",
       "      <td>8.611855</td>\n",
       "      <td>3.436965</td>\n",
       "      <td>0.0</td>\n",
       "      <td>6.0</td>\n",
       "      <td>8.0</td>\n",
       "      <td>11.0</td>\n",
       "      <td>22.0</td>\n",
       "    </tr>\n",
       "    <tr>\n",
       "      <th>home_team_runs</th>\n",
       "      <td>2463.0</td>\n",
       "      <td>4.519691</td>\n",
       "      <td>3.111572</td>\n",
       "      <td>0.0</td>\n",
       "      <td>2.0</td>\n",
       "      <td>4.0</td>\n",
       "      <td>6.0</td>\n",
       "      <td>17.0</td>\n",
       "    </tr>\n",
       "  </tbody>\n",
       "</table>\n",
       "</div>"
      ],
      "text/plain": [
       "                   count      mean       std  min  25%  50%   75%   max\n",
       "away_team_errors  2463.0  0.580593  0.793391  0.0  0.0  0.0   1.0   5.0\n",
       "away_team_hits    2463.0  8.764515  3.511581  1.0  6.0  8.0  11.0  22.0\n",
       "away_team_runs    2463.0  4.413723  3.104556  0.0  2.0  4.0   6.0  21.0\n",
       "field_type           0.0       NaN       NaN  NaN  NaN  NaN   NaN   NaN\n",
       "home_team_errors  2463.0  0.585871  0.805542  0.0  0.0  0.0   1.0   5.0\n",
       "home_team_hits    2463.0  8.611855  3.436965  0.0  6.0  8.0  11.0  22.0\n",
       "home_team_runs    2463.0  4.519691  3.111572  0.0  2.0  4.0   6.0  17.0"
      ]
     },
     "execution_count": 18,
     "metadata": {},
     "output_type": "execute_result"
    }
   ],
   "source": [
    "df.describe().T"
   ]
  },
  {
   "cell_type": "code",
   "execution_count": 11,
   "metadata": {},
   "outputs": [
    {
     "data": {
      "text/plain": [
       "['attendance',\n",
       " 'away_team',\n",
       " 'away_team_errors',\n",
       " 'away_team_hits',\n",
       " 'away_team_runs',\n",
       " 'boxscore_url',\n",
       " 'date',\n",
       " 'field_type',\n",
       " 'game_duration',\n",
       " 'game_type',\n",
       " 'home_team',\n",
       " 'home_team_errors',\n",
       " 'home_team_hits',\n",
       " 'home_team_runs',\n",
       " 'other_info_string',\n",
       " 'start_time',\n",
       " 'venue']"
      ]
     },
     "execution_count": 11,
     "metadata": {},
     "output_type": "execute_result"
    }
   ],
   "source": [
    "df.columns.to_list()  # to get the list of columns"
   ]
  },
  {
   "cell_type": "code",
   "execution_count": 12,
   "metadata": {},
   "outputs": [
    {
     "data": {
      "text/plain": [
       "attendance              0\n",
       "away_team               0\n",
       "away_team_errors        0\n",
       "away_team_hits          0\n",
       "away_team_runs          0\n",
       "boxscore_url            0\n",
       "date                    0\n",
       "field_type           2463\n",
       "game_duration           0\n",
       "game_type               3\n",
       "home_team               0\n",
       "home_team_errors        0\n",
       "home_team_hits          0\n",
       "home_team_runs          0\n",
       "other_info_string       0\n",
       "start_time              0\n",
       "venue                   0\n",
       "dtype: int64"
      ]
     },
     "execution_count": 12,
     "metadata": {},
     "output_type": "execute_result"
    }
   ],
   "source": [
    "df.isnull().sum()  # to check for missing values"
   ]
  },
  {
   "cell_type": "code",
   "execution_count": 13,
   "metadata": {},
   "outputs": [
    {
     "data": {
      "text/plain": [
       "attendance           2377\n",
       "away_team              30\n",
       "away_team_errors        6\n",
       "away_team_hits         22\n",
       "away_team_runs         20\n",
       "boxscore_url         2463\n",
       "date                  203\n",
       "field_type              0\n",
       "game_duration         169\n",
       "game_type               4\n",
       "home_team              30\n",
       "home_team_errors        6\n",
       "home_team_hits         23\n",
       "home_team_runs         18\n",
       "other_info_string    2463\n",
       "start_time            207\n",
       "venue                  34\n",
       "dtype: int64"
      ]
     },
     "execution_count": 13,
     "metadata": {},
     "output_type": "execute_result"
    }
   ],
   "source": [
    "df.nunique()  # to check for unique values"
   ]
  },
  {
   "cell_type": "code",
   "execution_count": 19,
   "metadata": {},
   "outputs": [],
   "source": [
    "'''\n",
    "Data reduction | Removing definitively unnecessary columns\n",
    "'''\n",
    "\n",
    "# dropping the field_type column, cause all the values are the same (NaN)\n",
    "df.drop('field_type', axis=1, inplace=True)"
   ]
  },
  {
   "cell_type": "code",
   "execution_count": null,
   "metadata": {},
   "outputs": [],
   "source": [
    "# dropping the boxscore_url column, cause is not necessary for the analysis (Is a link to the boxscore of the game)\n",
    "df.drop('boxscore_url', axis=1, inplace=True)"
   ]
  },
  {
   "cell_type": "code",
   "execution_count": 22,
   "metadata": {},
   "outputs": [],
   "source": [
    "'''\n",
    "Data cleaning/wrangling \n",
    "\n",
    "- Fixing data with formatting issues\n",
    "- Embedded data\n",
    "'''\n",
    "\n",
    "# Formatting issue with 'attendance':\n",
    "\n",
    "# its need to be a number int but instead is a string '43,332'],\n",
    "# this means have to remove the comma and the bracket and cast it to int\n",
    "# also some values have a single quote, so it needs to be removed too\n",
    "# finnally, there are some wrong values like pure names, so they need to be removed\n",
    "\n",
    "# Use pandas to_numeric function and convert invalid parsing to NaN\n",
    "df['attendance'] = pd.to_numeric(df['attendance'].str.replace(\n",
    "    ',', '').str.replace(']', '').str.replace(\"'\", ''), errors='coerce')"
   ]
  },
  {
   "cell_type": "code",
   "execution_count": 23,
   "metadata": {},
   "outputs": [],
   "source": [
    "# Formatting issue with 'date':\n",
    "\n",
    "# its need to be a date but instead is detected as an object.\n",
    "# so it needs to be cast to datetime format\n",
    "df['date'] = pd.to_datetime(df['date'])"
   ]
  },
  {
   "cell_type": "code",
   "execution_count": null,
   "metadata": {},
   "outputs": [],
   "source": [
    "# Formatting issue with 'game_duration':\n",
    "\n",
    "# its a duration indicator in hours, but instead is detected as an object.\n",
    "# so it needs to be cast to a float format.\n",
    "df['game_duration'] = pd.to_numeric(df['game_duration'].str.replace(\n",
    "    'h', '').str.replace('m', '').str.replace('s', ''), errors='coerce')"
   ]
  }
 ],
 "metadata": {
  "kernelspec": {
   "display_name": "Python 3",
   "language": "python",
   "name": "python3"
  },
  "language_info": {
   "codemirror_mode": {
    "name": "ipython",
    "version": 3
   },
   "file_extension": ".py",
   "mimetype": "text/x-python",
   "name": "python",
   "nbconvert_exporter": "python",
   "pygments_lexer": "ipython3",
   "version": "3.11.4"
  }
 },
 "nbformat": 4,
 "nbformat_minor": 2
}
